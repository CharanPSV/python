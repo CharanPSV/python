{
 "cells": [
  {
   "cell_type": "code",
   "execution_count": 4,
   "metadata": {},
   "outputs": [
    {
     "name": "stdout",
     "output_type": "stream",
     "text": [
      "19\n"
     ]
    }
   ],
   "source": [
    "l=[2,4,6,1,3,7,4,6,9,3,6,8,3,6,4,1,3,9,6,4,5,6,8,3,7,3,6,8]\n",
    "#find the maximum sum of any 3 consecutive elements of this array\n",
    "max=0\n",
    "for x in range (0,len (l)-2):\n",
    "    sum=l[x]+l[x+1]+l[x+2]\n",
    "    if(max<sum):\n",
    "        max=sum\n",
    "\n",
    "print(max)"
   ]
  },
  {
   "cell_type": "code",
   "execution_count": 7,
   "metadata": {},
   "outputs": [],
   "source": [
    "max=0\n",
    "con=int(input(\"enter consecutive number:\"))\n",
    "for x in range(0,len(l)-con):\n",
    "    s=0\n",
    "    for j in range(0,con):\n",
    "        s=s+l[x+j]\n",
    "    if max<s:\n",
    "        max=s\n",
    "\n",
    "print(max)"
   ]
  },
  {
   "cell_type": "code",
   "execution_count": 6,
   "metadata": {},
   "outputs": [
    {
     "name": "stdout",
     "output_type": "stream",
     "text": [
      "0\n"
     ]
    }
   ],
   "source": [
    "maxsum = 0\n",
    "sum = 0\n",
    "con = int(input(\"enter consecutive number:\"))\n",
    "start = 0\n",
    "end = 0\n",
    "\n",
    "for i in range(len(l)):\n",
    "    sum += l[i]\n",
    "    if i >= con - 1:\n",
    "        if sum > maxsum:\n",
    "            maxsum = sum\n",
    "        sum -= l[start]\n",
    "        start += 1\n",
    "        end += 1\n",
    "\n",
    "print(maxsum)"
   ]
  }
 ],
 "metadata": {
  "kernelspec": {
   "display_name": "Python 3.8.10 64-bit",
   "language": "python",
   "name": "python3"
  },
  "language_info": {
   "codemirror_mode": {
    "name": "ipython",
    "version": 3
   },
   "file_extension": ".py",
   "mimetype": "text/x-python",
   "name": "python",
   "nbconvert_exporter": "python",
   "pygments_lexer": "ipython3",
   "version": "3.8.10"
  },
  "orig_nbformat": 4,
  "vscode": {
   "interpreter": {
    "hash": "189f9f2ff40b893545ebcc5617720054bf1d158e74b10eae6c5bd8edd8c10440"
   }
  }
 },
 "nbformat": 4,
 "nbformat_minor": 2
}
