{
 "cells": [
  {
   "cell_type": "code",
   "execution_count": 2,
   "metadata": {},
   "outputs": [
    {
     "name": "stdout",
     "output_type": "stream",
     "text": [
      "[5, 6, 11, 12, 13]\n"
     ]
    }
   ],
   "source": [
    "arr = [12, 11, 13, 5, 6]\n",
    "n = len(arr) # Get the length of the array\n",
    "\t\n",
    "if n <= 1:\n",
    "\tprint(\"Elements are sorted\") # If the array has 0 or 1 element, it is already sorted, so return\n",
    "\n",
    "for i in range(1, n): # Iterate over the array starting from the second element\n",
    "\tkey = arr[i] # Store the current element as the key to be inserted in the right position\n",
    "\tj = i-1\n",
    "\twhile j >= 0 and key < arr[j]: # Move elements greater than key one position ahead\n",
    "\t\tarr[j+1] = arr[j] # Shift elements to the right\n",
    "\t\tj -= 1\n",
    "\tarr[j+1] = key # Insert the key in the correct position\n",
    "\n",
    "# Sorting the array [12, 11, 13, 5, 6] using insertionSort\n",
    "print(arr)\n"
   ]
  },
  {
   "cell_type": "code",
   "execution_count": 3,
   "metadata": {},
   "outputs": [
    {
     "name": "stdout",
     "output_type": "stream",
     "text": [
      "The array after sorting in Ascending Order by selection sort is:\n",
      "[-202, -97, -9, -2, 0, 11, 45, 88, 747]\n"
     ]
    }
   ],
   "source": [
    "#Selection sort \n",
    "def selectionSort(array, size):\n",
    "\t\n",
    "\tfor ind in range(size):\n",
    "\t\tmin_index = ind\n",
    "\n",
    "\t\tfor j in range(ind + 1, size):\n",
    "\t\t\t# select the minimum element in every iteration\n",
    "\t\t\tif array[j] < array[min_index]:\n",
    "\t\t\t\tmin_index = j\n",
    "\t\t# swapping the elements to sort the array\n",
    "\t\t(array[ind], array[min_index]) = (array[min_index], array[ind])\n",
    "\n",
    "arr = [-2, 45, 0, 11, -9,88,-97,-202,747]\n",
    "size = len(arr)\n",
    "selectionSort(arr, size)\n",
    "print('The array after sorting in Ascending Order by selection sort is:')\n",
    "print(arr)\n"
   ]
  },
  {
   "cell_type": "code",
   "execution_count": 1,
   "metadata": {},
   "outputs": [
    {
     "name": "stdout",
     "output_type": "stream",
     "text": [
      "Lowest Elemnet: 5\n"
     ]
    }
   ],
   "source": [
    "#Finding the lowest element\n",
    "arr = [12, 11, 13, 5, 6]\n",
    "n = len(arr) # Get the length of the array\n",
    "\t\n",
    "if n <= 1:\n",
    "\tprint(\"Elements are sorted\") # If the array has 0 or 1 element, it is already sorted, so return\n",
    "#sorting the elements\n",
    "for i in range(1, n): # Iterate over the array starting from the second element \n",
    "\tkey = arr[i] # Store the current element as the key to be inserted in the right position\n",
    "\tj = i-1\n",
    "\twhile j >= 0 and key < arr[j]: # Move elements greater than key one position ahead\n",
    "\t\tarr[j+1] = arr[j] # Shift elements to the right\n",
    "\t\tj -= 1\n",
    "\tarr[j+1] = key # Insert the key in the correct position\n",
    "\n",
    "# Sorting the array [12, 11, 13, 5, 6] using insertionSort\n",
    "print(\"Lowest Elemnet:\",arr[0])\n"
   ]
  },
  {
   "cell_type": "code",
   "execution_count": null,
   "metadata": {},
   "outputs": [],
   "source": [
    "l=[43,23,56,65,22,96,48,6,57,32,65,76,15,82,34,38]\n",
    "l.sort()\n",
    "print(l)\n",
    "low=0\n",
    "high=len(l)\n",
    "src=int(input(\"Enter the value:\"))\n",
    "try:\n",
    "    print(\"Index of element is \",l.index(src))\n",
    "Flag=0\n",
    "while low<=high:\n",
    "    "
   ]
  },
  {
   "cell_type": "code",
   "execution_count": 7,
   "metadata": {},
   "outputs": [
    {
     "name": "stdout",
     "output_type": "stream",
     "text": [
      "Valid String...\n"
     ]
    }
   ],
   "source": [
    "#Finding the Valid and Invalid String\n",
    "str=input(\"Enter the string:\")\n",
    "oc=0\n",
    "cc=0\n",
    "os=0\n",
    "cs=0\n",
    "op=0\n",
    "cp=0\n",
    "for char in str:\n",
    "    if char == \"{\":\n",
    "        oc+=1\n",
    "    elif char == \"(\":\n",
    "        op+=1\n",
    "    elif char == \"[\":\n",
    "        os+=1\n",
    "    elif char == \"}\":\n",
    "        cc+=1\n",
    "    elif char == \")\":\n",
    "        cp+=1\n",
    "    elif char == \"]\":\n",
    "        cs+=1\n",
    "    else:\n",
    "        continue\n",
    "print(str)\n",
    "if op==cp and cc==op and os==cs:\n",
    "    print(\"Valid String...\")\n",
    "else:\n",
    "    print(\"Invalid String...\")\n",
    "\n"
   ]
  },
  {
   "cell_type": "code",
   "execution_count": null,
   "metadata": {},
   "outputs": [],
   "source": []
  }
 ],
 "metadata": {
  "kernelspec": {
   "display_name": "Python 3.8.10 64-bit",
   "language": "python",
   "name": "python3"
  },
  "language_info": {
   "codemirror_mode": {
    "name": "ipython",
    "version": 3
   },
   "file_extension": ".py",
   "mimetype": "text/x-python",
   "name": "python",
   "nbconvert_exporter": "python",
   "pygments_lexer": "ipython3",
   "version": "3.8.10"
  },
  "orig_nbformat": 4,
  "vscode": {
   "interpreter": {
    "hash": "189f9f2ff40b893545ebcc5617720054bf1d158e74b10eae6c5bd8edd8c10440"
   }
  }
 },
 "nbformat": 4,
 "nbformat_minor": 2
}
